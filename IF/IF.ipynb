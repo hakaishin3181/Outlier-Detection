{
  "cells": [
    {
      "cell_type": "code",
      "execution_count": null,
      "metadata": {
        "id": "AFhsypKYUNwB"
      },
      "outputs": [],
      "source": [
        "import pandas as pd\n",
        "from sklearn.ensemble import IsolationForest\n",
        "from sklearn.metrics import roc_curve,auc"
      ]
    },
    {
      "cell_type": "code",
      "execution_count": null,
      "metadata": {
        "id": "6KXP_JqqUNwF"
      },
      "outputs": [],
      "source": [
        "def getResult(X,y):\n",
        "    model = IsolationForest(n_estimators=1000)\n",
        "    y_pred=model.fit_predict(X.values)\n",
        "    tp=0\n",
        "    fp=0\n",
        "    fn=0\n",
        "    for i in range(0,len(y_pred)):\n",
        "        if y_pred[i]==-1 and y[i]==-1:\n",
        "            tp+=1\n",
        "        if y_pred[i]==-1 and y[i]==1:\n",
        "            fp+=1\n",
        "        if y_pred[i]==1 and y[i]==-1:\n",
        "            fn+=1\n",
        "    print(f'Recall = {tp/(tp+fn)}')\n",
        "    print(f\"Number of outliers in dataset = {tp+fn}\")\n",
        "    model = IsolationForest(n_estimators=1000,contamination=5/len(y_pred))\n",
        "    y_pred=model.fit_predict(X.values)\n",
        "    tp=0\n",
        "    fp=0\n",
        "    fn=0\n",
        "    for i in range(0,len(y_pred)):\n",
        "        if y_pred[i]==-1 and y[i]==-1:\n",
        "            tp+=1\n",
        "        if y_pred[i]==-1 and y[i]==1:\n",
        "            fp+=1\n",
        "        if y_pred[i]==1 and y[i]==-1:\n",
        "            fn+=1\n",
        "    print(f'Precision@5 = {tp/(tp+fp)}')\n",
        "    model = IsolationForest(n_estimators=1000,contamination=10/len(y_pred))\n",
        "    y_pred=model.fit_predict(X.values)\n",
        "    tp=0\n",
        "    fp=0\n",
        "    fn=0\n",
        "    for i in range(0,len(y_pred)):\n",
        "        if y_pred[i]==-1 and y[i]==-1:\n",
        "            tp+=1\n",
        "        if y_pred[i]==-1 and y[i]==1:\n",
        "            fp+=1\n",
        "        if y_pred[i]==1 and y[i]==-1:\n",
        "            fn+=1\n",
        "    print(f'Precision@10 = {tp/(tp+fp)}')\n",
        "    model = IsolationForest(n_estimators=1000,contamination=20/len(y_pred))\n",
        "    y_pred=model.fit_predict(X.values)\n",
        "    tp=0\n",
        "    fp=0\n",
        "    fn=0\n",
        "    for i in range(0,len(y_pred)):\n",
        "        if y_pred[i]==-1 and y[i]==-1:\n",
        "            tp+=1\n",
        "        if y_pred[i]==-1 and y[i]==1:\n",
        "            fp+=1\n",
        "        if y_pred[i]==1 and y[i]==-1:\n",
        "            fn+=1\n",
        "    print(f'Precision@20 = {tp/(tp+fp)}')\n",
        "    scores=model.score_samples(X.values)\n",
        "    scores=scores*-1\n",
        "    fpr,tpr,thresholds=roc_curve(y,scores,pos_label=-1)\n",
        "    roc_auc=auc(fpr,tpr)\n",
        "    print(f'AUC = {roc_auc}')\n"
      ]
    },
    {
      "cell_type": "code",
      "execution_count": null,
      "metadata": {
        "colab": {
          "base_uri": "https://localhost:8080/"
        },
        "id": "46qA6YywUNwI",
        "outputId": "b323743e-88d9-4a79-d224-ef77be6c0e69"
      },
      "outputs": [
        {
          "name": "stdout",
          "output_type": "stream",
          "text": [
            "Recall = 0.8666666666666667\n",
            "Number of outliers in dataset = 30\n",
            "Precision@5 = 1.0\n",
            "Precision@10 = 1.0\n",
            "Precision@20 = 0.85\n",
            "AUC = 0.9580357142857142\n"
          ]
        }
      ],
      "source": [
        "data=pd.read_csv(\"ionosphere.csv\")\n",
        "X=data.iloc[:,:-1]\n",
        "y=data.iloc[:,-1]\n",
        "getResult(X,y)"
      ]
    },
    {
      "cell_type": "code",
      "execution_count": null,
      "metadata": {
        "colab": {
          "base_uri": "https://localhost:8080/"
        },
        "id": "VGoogA9VUNwK",
        "outputId": "0584da6f-d466-44d8-e16b-ffd681dbe5a5"
      },
      "outputs": [
        {
          "name": "stdout",
          "output_type": "stream",
          "text": [
            "Recall = 0.72\n",
            "Number of outliers in dataset = 50\n",
            "Precision@5 = 0.4\n",
            "Precision@10 = 0.4\n",
            "Precision@20 = 0.25\n",
            "AUC = 0.8710529207104927\n"
          ]
        }
      ],
      "source": [
        "data=pd.read_csv(\"mammography.csv\")\n",
        "X=data.iloc[:,:-1]\n",
        "y=data.iloc[:,-1]\n",
        "getResult(X,y)"
      ]
    },
    {
      "cell_type": "code",
      "execution_count": null,
      "metadata": {
        "colab": {
          "base_uri": "https://localhost:8080/"
        },
        "id": "WEk8VEgVUNwM",
        "outputId": "17e26328-bbad-4ce4-e40c-3f66121fb63d"
      },
      "outputs": [
        {
          "name": "stdout",
          "output_type": "stream",
          "text": [
            "Recall = 1.0\n",
            "Number of outliers in dataset = 10\n",
            "Precision@5 = 1.0\n",
            "Precision@10 = 1.0\n",
            "Precision@20 = 0.5\n",
            "AUC = 1.0\n"
          ]
        }
      ],
      "source": [
        "data=pd.read_csv(\"musk.csv\")\n",
        "X=data.iloc[:,:-1]\n",
        "y=data.iloc[:,-1]\n",
        "getResult(X,y)"
      ]
    },
    {
      "cell_type": "code",
      "execution_count": null,
      "metadata": {
        "colab": {
          "base_uri": "https://localhost:8080/"
        },
        "id": "so9HgICPUNwN",
        "outputId": "eb839ef6-2efd-4502-9158-d66c2a45201e"
      },
      "outputs": [
        {
          "name": "stdout",
          "output_type": "stream",
          "text": [
            "Recall = 1.0\n",
            "Number of outliers in dataset = 50\n",
            "Precision@5 = 1.0\n",
            "Precision@10 = 1.0\n",
            "Precision@20 = 1.0\n",
            "AUC = 0.9985916419874961\n"
          ]
        }
      ],
      "source": [
        "data=pd.read_csv(\"shuttle.csv\")\n",
        "X=data.iloc[:,:-1]\n",
        "y=data.iloc[:,-1]\n",
        "getResult(X,y)"
      ]
    },
    {
      "cell_type": "code",
      "execution_count": 34,
      "metadata": {
        "colab": {
          "base_uri": "https://localhost:8080/"
        },
        "id": "_nG5MMOEUNwO",
        "outputId": "92a58220-b052-4547-80b5-4bf1a8194f06"
      },
      "outputs": [
        {
          "name": "stdout",
          "output_type": "stream",
          "text": [
            "Recall = 0.9\n",
            "Number of outliers in dataset = 20\n",
            "Precision@5 = 0.2\n",
            "Precision@10 = 0.3\n",
            "Precision@20 = 0.2631578947368421\n",
            "AUC = 0.9830406371247703\n"
          ]
        }
      ],
      "source": [
        "data=pd.read_csv(\"wine.csv\")\n",
        "X=data.iloc[:,:-1]\n",
        "y=data.iloc[:,-1]\n",
        "getResult(X,y)"
      ]
    }
  ],
  "metadata": {
    "colab": {
      "include_colab_link": true,
      "provenance": []
    },
    "kernelspec": {
      "display_name": "Python 3",
      "language": "python",
      "name": "python3"
    },
    "language_info": {
      "codemirror_mode": {
        "name": "ipython",
        "version": 3
      },
      "file_extension": ".py",
      "mimetype": "text/x-python",
      "name": "python",
      "nbconvert_exporter": "python",
      "pygments_lexer": "ipython3",
      "version": "3.10.4"
    },
    "orig_nbformat": 4,
    "vscode": {
      "interpreter": {
        "hash": "32dbabc90dd4d77dd2537a454396bdaa90f9684860be762d20438a91ed290ce7"
      }
    }
  },
  "nbformat": 4,
  "nbformat_minor": 0
}
